{
  "nbformat": 4,
  "nbformat_minor": 0,
  "metadata": {
    "colab": {
      "name": "Creating_NeuralNetowork.ipynb",
      "provenance": [],
      "authorship_tag": "ABX9TyNw5B2+2USVz0r6p6SlhHri",
      "include_colab_link": true
    },
    "kernelspec": {
      "name": "python3",
      "display_name": "Python 3"
    }
  },
  "cells": [
    {
      "cell_type": "markdown",
      "metadata": {
        "id": "view-in-github",
        "colab_type": "text"
      },
      "source": [
        "<a href=\"https://colab.research.google.com/github/0x31nose/Deep_Learning_Tutorial/blob/master/CreatingNeuralNetowork.ipynb\" target=\"_parent\"><img src=\"https://colab.research.google.com/assets/colab-badge.svg\" alt=\"Open In Colab\"/></a>"
      ]
    },
    {
      "cell_type": "markdown",
      "metadata": {
        "id": "itBWpIUZKqT5",
        "colab_type": "text"
      },
      "source": [
        "## ニューラルネットワークの作成\n",
        "1. データセットの準備と整形\n",
        "2. ニューラルネットワークの定義\n",
        "3. 学習と制度の検証"
      ]
    },
    {
      "cell_type": "markdown",
      "metadata": {
        "id": "fxNCH-0PLQBf",
        "colab_type": "text"
      },
      "source": [
        "### あやめのデータセットの読み込み"
      ]
    },
    {
      "cell_type": "code",
      "metadata": {
        "id": "EZtkhkdHLTtD",
        "colab_type": "code",
        "colab": {}
      },
      "source": [
        "from sklearn.datasets import load_iris\n",
        "iris = load_iris()"
      ],
      "execution_count": 1,
      "outputs": []
    },
    {
      "cell_type": "code",
      "metadata": {
        "id": "ZUSELcROL5fD",
        "colab_type": "code",
        "colab": {
          "base_uri": "https://localhost:8080/",
          "height": 102
        },
        "outputId": "b45b3556-7c62-40f4-8433-3d4cfb775897"
      },
      "source": [
        "for idx, item in enumerate(zip(iris.data, iris.target)):\n",
        "  if idx == 5:\n",
        "    break\n",
        "  print('data', item[0], 'target:', item[1])"
      ],
      "execution_count": 2,
      "outputs": [
        {
          "output_type": "stream",
          "text": [
            "data [5.1 3.5 1.4 0.2] target: 0\n",
            "data [4.9 3.  1.4 0.2] target: 0\n",
            "data [4.7 3.2 1.3 0.2] target: 0\n",
            "data [4.6 3.1 1.5 0.2] target: 0\n",
            "data [5.  3.6 1.4 0.2] target: 0\n"
          ],
          "name": "stdout"
        }
      ]
    },
    {
      "cell_type": "code",
      "metadata": {
        "id": "LHim64VSMF3I",
        "colab_type": "code",
        "colab": {
          "base_uri": "https://localhost:8080/",
          "height": 119
        },
        "outputId": "22e040c9-c7a8-4428-a988-38db0f3f1ef0"
      },
      "source": [
        "from sklearn.model_selection import train_test_split\n",
        "print(\"length of iris.data:\", len(iris.data)) # iris.dataのデータ数\n",
        "print(\"length of iris.target:\", len(iris.target)) # iris.targetのデータ数\n",
        "\n",
        "# iris.dataとiris.targetに含まれるデータをシャッフルして分割\n",
        "X_train, X_test, y_train, y_test = train_test_split(iris.data, iris.target)\n",
        "print(\"length of X_train:\", len(X_train))\n",
        "print(\"length of y_train:\", len(y_train))\n",
        "print(\"length of X_test:\", len(X_test))\n",
        "print(\"length of y_test:\", len(y_test))"
      ],
      "execution_count": 13,
      "outputs": [
        {
          "output_type": "stream",
          "text": [
            "length of iris.data: 150\n",
            "length of iris.target: 150\n",
            "length of X_train: 112\n",
            "length of y_train: 112\n",
            "length of X_test: 38\n",
            "length of y_test: 38\n"
          ],
          "name": "stdout"
        }
      ]
    },
    {
      "cell_type": "code",
      "metadata": {
        "id": "px4CRFJYMv6e",
        "colab_type": "code",
        "colab": {
          "base_uri": "https://localhost:8080/",
          "height": 102
        },
        "outputId": "daf128e3-7c4b-46c4-8d21-f357b4319560"
      },
      "source": [
        "for idx, item in enumerate(zip(X_train, y_train)):\n",
        "  if idx == 5:\n",
        "    break\n",
        "  print('data', item[0], 'target:', item[1])"
      ],
      "execution_count": 14,
      "outputs": [
        {
          "output_type": "stream",
          "text": [
            "data [6.5 2.8 4.6 1.5] target: 1\n",
            "data [4.8 3.  1.4 0.3] target: 0\n",
            "data [7.3 2.9 6.3 1.8] target: 2\n",
            "data [7.7 3.  6.1 2.3] target: 2\n",
            "data [6.8 3.2 5.9 2.3] target: 2\n"
          ],
          "name": "stdout"
        }
      ]
    },
    {
      "cell_type": "code",
      "metadata": {
        "id": "rG086b4oNK5Q",
        "colab_type": "code",
        "colab": {}
      },
      "source": [
        "import torch\n",
        "\n",
        "X_train = torch.from_numpy(X_train).float()\n",
        "y_train = torch.tensor([[float(x)] for x in y_train])\n",
        "X_test = torch.from_numpy(X_test).float()\n",
        "y_test = torch.tensor([[float(x)] for x in y_test])"
      ],
      "execution_count": 15,
      "outputs": []
    },
    {
      "cell_type": "markdown",
      "metadata": {
        "id": "kW3NLeZQTD7e",
        "colab_type": "text"
      },
      "source": [
        "## ニューラルネットワークの作成\n",
        "- ある層のノードが次の層の全てのノードと接続されるようなニューラルネットワークを作成する。\n",
        "- PyTorchではLinearクラス（torch.nn.Linearクラス）を使うことで簡潔に記述できる。\n",
        "- 以下では、入力データ→入力層→活性化関数→隠れ層→（出力層→）出力という流れを書いてみる"
      ]
    },
    {
      "cell_type": "markdown",
      "metadata": {
        "id": "MHFTLCcQV2Uh",
        "colab_type": "text"
      },
      "source": [
        ""
      ]
    },
    {
      "cell_type": "code",
      "metadata": {
        "id": "TVD4tYHbNu-d",
        "colab_type": "code",
        "colab": {}
      },
      "source": [
        "# PyTorchが提供するtorch.nnモジュールをインポートする\n",
        "from torch import nn\n",
        "\n",
        "# 入力層、隠れ層、出力の数を変数に代入する\n",
        "INPUT_FEATURES = 4\n",
        "HIDDEN = 5\n",
        "OUTPUT_FEATURES = 1\n",
        "\n",
        "# nn.Moduleクラス（torch.nn.Moduleクラス）を基底クラスとする\n",
        "# そうすることで、Pytorchが提供するニューラルネットワークのすべての機能を継承する\n",
        "# その後に、__init__とforwardの２つのメソッドを定義する\n",
        "class Net(nn.Module):\n",
        "  #　基底クラスの__init__メソッドを呼び出して、初期化を行っている\n",
        "  def __init__(self):\n",
        "    super().__init__()\n",
        "    # 入力層を表すインスタンス（入力層→隠れ層）\n",
        "    self.fc1 = nn.Linear(INPUT_FEATURES, HIDDEN)\n",
        "    # 隠れ層を表すインスタンス(隠れ層→出力層)\n",
        "    self.fc2 = nn.Linear(HIDDEN, OUTPUT_FEATURES)\n",
        "\n",
        "  # ニューラルネットがどのように計算を連ねていくかを定める\n",
        "  # 入力xを受け取り、self.fc1で処理し、\n",
        "  # その結果をsigmoid関数（活性化関数）に通して、\n",
        "  # self.fc2メソッドで処理して、その結果を戻り値としている\n",
        "  def forward(self, x):\n",
        "    x = self.fc1(x)\n",
        "    x = torch.sigmoid(x)\n",
        "    x = self.fc2(x)\n",
        "    return x"
      ],
      "execution_count": 21,
      "outputs": []
    },
    {
      "cell_type": "code",
      "metadata": {
        "id": "JUpyT-nOPN16",
        "colab_type": "code",
        "colab": {
          "base_uri": "https://localhost:8080/",
          "height": 119
        },
        "outputId": "1ed546d4-8b12-41bb-f9b9-4f86dfeae885"
      },
      "source": [
        "# とりあえず訓練してないけど使ってみるテスト\n",
        "net = Net() #\n",
        "\n",
        "outputs = net(X_train[0:3]) # 訓練データの先頭から３個の要素を入力\n",
        "print(outputs)\n",
        "for idx in range(3):\n",
        "  print('output', outputs[idx], ', label:', y_train[idx])"
      ],
      "execution_count": 32,
      "outputs": [
        {
          "output_type": "stream",
          "text": [
            "tensor([[-0.2203],\n",
            "        [-0.1635],\n",
            "        [-0.2107]], grad_fn=<AddmmBackward>)\n",
            "output tensor([-0.2203], grad_fn=<SelectBackward>) , label: tensor([1.])\n",
            "output tensor([-0.1635], grad_fn=<SelectBackward>) , label: tensor([0.])\n",
            "output tensor([-0.2107], grad_fn=<SelectBackward>) , label: tensor([2.])\n"
          ],
          "name": "stdout"
        }
      ]
    },
    {
      "cell_type": "markdown",
      "metadata": {
        "id": "VwSLYIjEaK3x",
        "colab_type": "text"
      },
      "source": [
        "### 学習\n",
        "#### 学習の概要\n",
        "- ニューラルネットワークにデータを入力\n",
        "- 得られる計算結果（推測結果）と正解ラベルを比較\n",
        "- ニューラルネットワークが持つ重みやバイアスを更新する\n",
        "- 計算結果と正解ラベルとの誤差を比べる\n",
        "- 最適化と呼ばれる処置を行う\n",
        "\n",
        "#### 学習の手順\n",
        "1. ニューラルネットワークにX_trainに格納したデータを入力する\n",
        "2. 損失関数を用いて計算結果と正解ラベルとの誤差を計算する\n",
        "3. 誤差逆伝播や最適化処理によって重みやバイアスを更新\n",
        "4. １〜３を繰り返す"
      ]
    },
    {
      "cell_type": "code",
      "metadata": {
        "id": "-yx7fQ1TWNa3",
        "colab_type": "code",
        "colab": {
          "base_uri": "https://localhost:8080/",
          "height": 544
        },
        "outputId": "5c8a265a-a6aa-4c7d-a275-a7c94d80e5b7"
      },
      "source": [
        "net = Net()\n",
        "\n",
        "criterion = nn.MSELoss()\n",
        "optimizer = torch.optim.SGD(net.parameters(), lr=0.003)\n",
        "\n",
        "EPOCHS = 3000\n",
        "for epoch in range(EPOCHS):\n",
        "  optimizer.zero_grad()\n",
        "  outputs = net(X_train)\n",
        "  loss = criterion(outputs, y_train)\n",
        "  loss.backward()\n",
        "  optimizer.step()\n",
        "\n",
        "  if epoch % 100 == 99:\n",
        "    print(f'epoch: {epoch+1:4}, loss: {loss.data}')\n",
        "\n",
        "print('training finished')"
      ],
      "execution_count": 39,
      "outputs": [
        {
          "output_type": "stream",
          "text": [
            "epoch:  100, loss: 0.5484613180160522\n",
            "epoch:  200, loss: 0.5020634531974792\n",
            "epoch:  300, loss: 0.45815515518188477\n",
            "epoch:  400, loss: 0.4139237403869629\n",
            "epoch:  500, loss: 0.36891841888427734\n",
            "epoch:  600, loss: 0.32376593351364136\n",
            "epoch:  700, loss: 0.28034043312072754\n",
            "epoch:  800, loss: 0.24059738218784332\n",
            "epoch:  900, loss: 0.20580913126468658\n",
            "epoch: 1000, loss: 0.1764279305934906\n",
            "epoch: 1100, loss: 0.15228192508220673\n",
            "epoch: 1200, loss: 0.13283689320087433\n",
            "epoch: 1300, loss: 0.11740414053201675\n",
            "epoch: 1400, loss: 0.1052742525935173\n",
            "epoch: 1500, loss: 0.09579122811555862\n",
            "epoch: 1600, loss: 0.08838657289743423\n",
            "epoch: 1700, loss: 0.08258896321058273\n",
            "epoch: 1800, loss: 0.07802040129899979\n",
            "epoch: 1900, loss: 0.07438546419143677\n",
            "epoch: 2000, loss: 0.07145781815052032\n",
            "epoch: 2100, loss: 0.06906678527593613\n",
            "epoch: 2200, loss: 0.06708456575870514\n",
            "epoch: 2300, loss: 0.06541653722524643\n",
            "epoch: 2400, loss: 0.06399232894182205\n",
            "epoch: 2500, loss: 0.06275959312915802\n",
            "epoch: 2600, loss: 0.0616791769862175\n",
            "epoch: 2700, loss: 0.06072144955396652\n",
            "epoch: 2800, loss: 0.05986383929848671\n",
            "epoch: 2900, loss: 0.05908890813589096\n",
            "epoch: 3000, loss: 0.058383043855428696\n",
            "training finished\n"
          ],
          "name": "stdout"
        }
      ]
    },
    {
      "cell_type": "code",
      "metadata": {
        "id": "_YnDB9icbWq5",
        "colab_type": "code",
        "colab": {
          "base_uri": "https://localhost:8080/",
          "height": 102
        },
        "outputId": "d39a39d3-e607-46d0-ee4d-961e383ba305"
      },
      "source": [
        "# 学習前に行った結果よりかは近しい値が出力されている。\n",
        "for idx, item in enumerate(zip(outputs, y_train)):\n",
        "  if idx == 5:\n",
        "    break\n",
        "  print(item[0].data, '<-->', item[1])"
      ],
      "execution_count": 40,
      "outputs": [
        {
          "output_type": "stream",
          "text": [
            "tensor([1.2925]) <--> tensor([1.])\n",
            "tensor([0.0662]) <--> tensor([0.])\n",
            "tensor([1.8220]) <--> tensor([2.])\n",
            "tensor([1.8194]) <--> tensor([2.])\n",
            "tensor([1.8496]) <--> tensor([2.])\n"
          ],
          "name": "stdout"
        }
      ]
    },
    {
      "cell_type": "code",
      "metadata": {
        "id": "B8TkGT2cb6Q-",
        "colab_type": "code",
        "colab": {
          "base_uri": "https://localhost:8080/",
          "height": 102
        },
        "outputId": "cb8e2f5d-66e0-4a4a-dc8a-97d2f0d18260"
      },
      "source": [
        "predict = (outputs + 0.5).int()\n",
        "for idx, item in enumerate(zip(predict, y_train)):\n",
        "  if idx == 5:\n",
        "    break\n",
        "  print('output:', item[0], ', label:', item[1])"
      ],
      "execution_count": 41,
      "outputs": [
        {
          "output_type": "stream",
          "text": [
            "output: tensor([1], dtype=torch.int32) , label: tensor([1.])\n",
            "output: tensor([0], dtype=torch.int32) , label: tensor([0.])\n",
            "output: tensor([2], dtype=torch.int32) , label: tensor([2.])\n",
            "output: tensor([2], dtype=torch.int32) , label: tensor([2.])\n",
            "output: tensor([2], dtype=torch.int32) , label: tensor([2.])\n"
          ],
          "name": "stdout"
        }
      ]
    },
    {
      "cell_type": "code",
      "metadata": {
        "id": "UyQZ3l0Tcnka",
        "colab_type": "code",
        "colab": {
          "base_uri": "https://localhost:8080/",
          "height": 119
        },
        "outputId": "fb81ad2e-9126-41f5-fb19-cf039d73ec11"
      },
      "source": [
        "compare = predict == y_train\n",
        "print(compare[0:5])\n",
        "print(\"Accuracy:\", int(compare.sum())/112)"
      ],
      "execution_count": 51,
      "outputs": [
        {
          "output_type": "stream",
          "text": [
            "tensor([[True],\n",
            "        [True],\n",
            "        [True],\n",
            "        [True],\n",
            "        [True]])\n",
            "Accuracy: 0.9821428571428571\n"
          ],
          "name": "stdout"
        }
      ]
    },
    {
      "cell_type": "code",
      "metadata": {
        "id": "AUEqt-YLdAqF",
        "colab_type": "code",
        "colab": {
          "base_uri": "https://localhost:8080/",
          "height": 680
        },
        "outputId": "1227d7e7-2012-4457-eb3f-d1ff21456aa5"
      },
      "source": [
        "outputs = net(X_test)\n",
        "\n",
        "predict = (outputs + 0.5).int()\n",
        "compare = predict == y_test\n",
        "\n",
        "print(f'correct: {compare.sum()} / {len(predict)}')\n",
        "for value, label in zip(predict, y_test):\n",
        "  print('predicted:', iris.target_names[value.item()], '<--->',\n",
        "        'label:', iris.target_names[int(label.item())])"
      ],
      "execution_count": 55,
      "outputs": [
        {
          "output_type": "stream",
          "text": [
            "correct: 38 / 38\n",
            "predicted: setosa <---> label: setosa\n",
            "predicted: setosa <---> label: setosa\n",
            "predicted: virginica <---> label: virginica\n",
            "predicted: versicolor <---> label: versicolor\n",
            "predicted: setosa <---> label: setosa\n",
            "predicted: setosa <---> label: setosa\n",
            "predicted: versicolor <---> label: versicolor\n",
            "predicted: versicolor <---> label: versicolor\n",
            "predicted: setosa <---> label: setosa\n",
            "predicted: virginica <---> label: virginica\n",
            "predicted: setosa <---> label: setosa\n",
            "predicted: versicolor <---> label: versicolor\n",
            "predicted: setosa <---> label: setosa\n",
            "predicted: setosa <---> label: setosa\n",
            "predicted: setosa <---> label: setosa\n",
            "predicted: versicolor <---> label: versicolor\n",
            "predicted: setosa <---> label: setosa\n",
            "predicted: virginica <---> label: virginica\n",
            "predicted: virginica <---> label: virginica\n",
            "predicted: virginica <---> label: virginica\n",
            "predicted: virginica <---> label: virginica\n",
            "predicted: virginica <---> label: virginica\n",
            "predicted: virginica <---> label: virginica\n",
            "predicted: versicolor <---> label: versicolor\n",
            "predicted: virginica <---> label: virginica\n",
            "predicted: versicolor <---> label: versicolor\n",
            "predicted: virginica <---> label: virginica\n",
            "predicted: versicolor <---> label: versicolor\n",
            "predicted: setosa <---> label: setosa\n",
            "predicted: setosa <---> label: setosa\n",
            "predicted: versicolor <---> label: versicolor\n",
            "predicted: virginica <---> label: virginica\n",
            "predicted: versicolor <---> label: versicolor\n",
            "predicted: virginica <---> label: virginica\n",
            "predicted: virginica <---> label: virginica\n",
            "predicted: virginica <---> label: virginica\n",
            "predicted: versicolor <---> label: versicolor\n",
            "predicted: setosa <---> label: setosa\n"
          ],
          "name": "stdout"
        }
      ]
    },
    {
      "cell_type": "markdown",
      "metadata": {
        "id": "B7nTDmMmh-Pu",
        "colab_type": "text"
      },
      "source": [
        "###  重みとバイアス"
      ]
    },
    {
      "cell_type": "code",
      "metadata": {
        "id": "-vn7bKk3doWD",
        "colab_type": "code",
        "colab": {}
      },
      "source": [
        ""
      ],
      "execution_count": null,
      "outputs": []
    }
  ]
}