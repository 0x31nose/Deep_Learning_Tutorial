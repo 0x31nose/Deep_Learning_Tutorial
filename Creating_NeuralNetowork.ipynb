{
  "nbformat": 4,
  "nbformat_minor": 0,
  "metadata": {
    "colab": {
      "name": "Creating_NeuralNetowork.ipynb",
      "provenance": [],
      "authorship_tag": "ABX9TyPA5bbttEmVjCZNaLjIFB79",
      "include_colab_link": true
    },
    "kernelspec": {
      "name": "python3",
      "display_name": "Python 3"
    }
  },
  "cells": [
    {
      "cell_type": "markdown",
      "metadata": {
        "id": "view-in-github",
        "colab_type": "text"
      },
      "source": [
        "<a href=\"https://colab.research.google.com/github/0x31nose/Deep_Learning_Tutorial/blob/master/Creating_NeuralNetowork.ipynb\" target=\"_parent\"><img src=\"https://colab.research.google.com/assets/colab-badge.svg\" alt=\"Open In Colab\"/></a>"
      ]
    },
    {
      "cell_type": "markdown",
      "metadata": {
        "id": "itBWpIUZKqT5",
        "colab_type": "text"
      },
      "source": [
        "## ニューラルネットワークの作成\n",
        "1. データセットの準備と整形\n",
        "2. ニューラルネットワークの定義\n",
        "3. 学習と制度の検証"
      ]
    },
    {
      "cell_type": "markdown",
      "metadata": {
        "id": "fxNCH-0PLQBf",
        "colab_type": "text"
      },
      "source": [
        "### あやめのデータセットの読み込み"
      ]
    },
    {
      "cell_type": "code",
      "metadata": {
        "id": "EZtkhkdHLTtD",
        "colab_type": "code",
        "colab": {}
      },
      "source": [
        "from sklearn.datasets import load_iris\n",
        "iris = load_iris()"
      ],
      "execution_count": null,
      "outputs": []
    },
    {
      "cell_type": "code",
      "metadata": {
        "id": "ZUSELcROL5fD",
        "colab_type": "code",
        "colab": {
          "base_uri": "https://localhost:8080/",
          "height": 102
        },
        "outputId": "537e94af-ecf3-46fc-e4da-7f84c4b1b3a1"
      },
      "source": [
        "for idx, item in enumerate(zip(iris.data, iris.target)):\n",
        "  if idx == 5:\n",
        "    break\n",
        "  print('data', item[0], 'target:', item[1])"
      ],
      "execution_count": null,
      "outputs": [
        {
          "output_type": "stream",
          "text": [
            "data [5.1 3.5 1.4 0.2] target: 0\n",
            "data [4.9 3.  1.4 0.2] target: 0\n",
            "data [4.7 3.2 1.3 0.2] target: 0\n",
            "data [4.6 3.1 1.5 0.2] target: 0\n",
            "data [5.  3.6 1.4 0.2] target: 0\n"
          ],
          "name": "stdout"
        }
      ]
    },
    {
      "cell_type": "code",
      "metadata": {
        "id": "LHim64VSMF3I",
        "colab_type": "code",
        "colab": {
          "base_uri": "https://localhost:8080/",
          "height": 119
        },
        "outputId": "648148ac-4409-4c21-e6cf-bbdc947056e9"
      },
      "source": [
        "from sklearn.model_selection import train_test_split\n",
        "print(\"length of iris.data:\", len(iris.data)) # iris.dataのデータ数\n",
        "print(\"length of iris.target:\", len(iris.target)) # iris.targetのデータ数\n",
        "\n",
        "# iris.dataとiris.targetに含まれるデータをシャッフルして分割\n",
        "X_train, X_test, y_train, y_test = train_test_split(iris.data, iris.target)\n",
        "print(\"length of X_train:\", len(X_train))\n",
        "print(\"length of y_train:\", len(y_train))\n",
        "print(\"length of X_test:\", len(X_test))\n",
        "print(\"length of y_test:\", len(y_test))"
      ],
      "execution_count": null,
      "outputs": [
        {
          "output_type": "stream",
          "text": [
            "length of iris.data: 150\n",
            "length of iris.target: 150\n",
            "length of X_train: 112\n",
            "length of y_train: 112\n",
            "length of X_test: 38\n",
            "length of y_test: 38\n"
          ],
          "name": "stdout"
        }
      ]
    },
    {
      "cell_type": "code",
      "metadata": {
        "id": "px4CRFJYMv6e",
        "colab_type": "code",
        "colab": {
          "base_uri": "https://localhost:8080/",
          "height": 102
        },
        "outputId": "55f1f2b8-effa-48c8-bc6c-72845a714bc3"
      },
      "source": [
        "for idx, item in enumerate(zip(X_train, y_train)):\n",
        "  if idx == 5:\n",
        "    break\n",
        "  print('data', item[0], 'target:', item[1])"
      ],
      "execution_count": null,
      "outputs": [
        {
          "output_type": "stream",
          "text": [
            "data [6.4 2.7 5.3 1.9] target: 2\n",
            "data [6.7 3.1 4.7 1.5] target: 1\n",
            "data [5.2 3.4 1.4 0.2] target: 0\n",
            "data [5.  2.3 3.3 1. ] target: 1\n",
            "data [6.3 2.3 4.4 1.3] target: 1\n"
          ],
          "name": "stdout"
        }
      ]
    },
    {
      "cell_type": "code",
      "metadata": {
        "id": "rG086b4oNK5Q",
        "colab_type": "code",
        "colab": {}
      },
      "source": [
        "import torch\n",
        "\n",
        "X_train = torch.from_numpy(X_train).float()\n",
        "y_train = torch.tensor([[float(x)] for x in y_train])\n",
        "X_test = torch.from_numpy(X_test).float()\n",
        "y_test = torch.tensor([[float(x)] for x in y_test])"
      ],
      "execution_count": null,
      "outputs": []
    },
    {
      "cell_type": "markdown",
      "metadata": {
        "id": "kW3NLeZQTD7e",
        "colab_type": "text"
      },
      "source": [
        "## ニューラルネットワークの作成\n",
        "- ある層のノードが次の層の全てのノードと接続されるようなニューラルネットワークを作成する。\n",
        "- PyTorchではLinearクラス（torch.nn.Linearクラス）を使うことで簡潔に記述できる。\n",
        "- 以下では、入力データ→入力層→活性化関数→隠れ層→（出力層→）出力という流れを書いてみる"
      ]
    },
    {
      "cell_type": "markdown",
      "metadata": {
        "id": "MHFTLCcQV2Uh",
        "colab_type": "text"
      },
      "source": [
        ""
      ]
    },
    {
      "cell_type": "code",
      "metadata": {
        "id": "TVD4tYHbNu-d",
        "colab_type": "code",
        "colab": {}
      },
      "source": [
        "# PyTorchが提供するtorch.nnモジュールをインポートする\n",
        "from torch import nn\n",
        "\n",
        "# 入力層、隠れ層、出力の数を変数に代入する\n",
        "INPUT_FEATURES = 4\n",
        "HIDDEN = 5\n",
        "OUTPUT_FEATURES = 1\n",
        "\n",
        "# nn.Moduleクラス（torch.nn.Moduleクラス）を基底クラスとする\n",
        "# そうすることで、Pytorchが提供するニューラルネットワークのすべての機能を継承する\n",
        "# その後に、__init__とforwardの２つのメソッドを定義する\n",
        "class Net(nn.Module):\n",
        "  #　基底クラスの__init__メソッドを呼び出して、初期化を行っている\n",
        "  def __init__(self):\n",
        "    super().__init__()\n",
        "    # 入力層を表すインスタンス（入力層→隠れ層）\n",
        "    self.fc1 = nn.Linear(INPUT_FEATURES, HIDDEN)\n",
        "    # 隠れ層を表すインスタンス(隠れ層→出力層)\n",
        "    self.fc2 = nn.Linear(HIDDEN, OUTPUT_FEATURES)\n",
        "\n",
        "  # ニューラルネットがどのように計算を連ねていくかを定める\n",
        "  # 入力xを受け取り、self.fc1で処理し、\n",
        "  # その結果をsigmoid関数（活性化関数）に通して、\n",
        "  # self.fc2メソッドで処理して、その結果を戻り値としている\n",
        "  def forward(self, x):\n",
        "    x = self.fc1(x)\n",
        "    x = torch.sigmoid(x)\n",
        "    x = self.fc2(x)\n",
        "    return x"
      ],
      "execution_count": null,
      "outputs": []
    },
    {
      "cell_type": "code",
      "metadata": {
        "id": "JUpyT-nOPN16",
        "colab_type": "code",
        "colab": {
          "base_uri": "https://localhost:8080/",
          "height": 119
        },
        "outputId": "447f3130-323d-4899-b6af-6dfb1431e01a"
      },
      "source": [
        "# とりあえず訓練してないけど使ってみるテスト\n",
        "net = Net() #\n",
        "\n",
        "outputs = net(X_train[0:3]) # 訓練データの先頭から３個の要素を入力\n",
        "print(outputs)\n",
        "for idx in range(3):\n",
        "  print('output', outputs[idx], ', label:', y_train[idx])"
      ],
      "execution_count": null,
      "outputs": [
        {
          "output_type": "stream",
          "text": [
            "tensor([[0.1658],\n",
            "        [0.1883],\n",
            "        [0.1674]], grad_fn=<AddmmBackward>)\n",
            "output tensor([0.1658], grad_fn=<SelectBackward>) , label: tensor([2.])\n",
            "output tensor([0.1883], grad_fn=<SelectBackward>) , label: tensor([1.])\n",
            "output tensor([0.1674], grad_fn=<SelectBackward>) , label: tensor([0.])\n"
          ],
          "name": "stdout"
        }
      ]
    },
    {
      "cell_type": "markdown",
      "metadata": {
        "id": "VwSLYIjEaK3x",
        "colab_type": "text"
      },
      "source": [
        "### 学習\n",
        "#### 学習の概要\n",
        "- ニューラルネットワークにデータを入力\n",
        "- 得られる計算結果（推測結果）と正解ラベルを比較\n",
        "- ニューラルネットワークが持つ重みやバイアスを更新する\n",
        "- 計算結果と正解ラベルとの誤差を比べる\n",
        "- 最適化と呼ばれる処置を行う\n",
        "\n",
        "#### 学習の手順\n",
        "1. ニューラルネットワークにX_trainに格納したデータを入力する\n",
        "2. 損失関数を用いて計算結果と正解ラベルとの誤差を計算する\n",
        "3. 誤差逆伝播や最適化処理によって重みやバイアスを更新\n",
        "4. １〜３を繰り返す"
      ]
    },
    {
      "cell_type": "code",
      "metadata": {
        "id": "-yx7fQ1TWNa3",
        "colab_type": "code",
        "colab": {
          "base_uri": "https://localhost:8080/",
          "height": 544
        },
        "outputId": "9e514acc-69c9-47f8-ebda-bedf27c23243"
      },
      "source": [
        "net = Net()\n",
        "\n",
        "criterion = nn.MSELoss()\n",
        "optimizer = torch.optim.SGD(net.parameters(), lr=0.003)\n",
        "\n",
        "EPOCHS = 3000\n",
        "for epoch in range(EPOCHS):\n",
        "  optimizer.zero_grad()\n",
        "  outputs = net(X_train)\n",
        "  loss = criterion(outputs, y_train)\n",
        "  loss.backward()\n",
        "  optimizer.step()\n",
        "\n",
        "  if epoch % 100 == 99:\n",
        "    print(f'epoch: {epoch+1:4}, loss: {loss.data}')\n",
        "\n",
        "print('training finished')"
      ],
      "execution_count": null,
      "outputs": [
        {
          "output_type": "stream",
          "text": [
            "epoch:  100, loss: 0.7983088493347168\n",
            "epoch:  200, loss: 0.7308584451675415\n",
            "epoch:  300, loss: 0.6923127770423889\n",
            "epoch:  400, loss: 0.6568235158920288\n",
            "epoch:  500, loss: 0.6203137040138245\n",
            "epoch:  600, loss: 0.5828362703323364\n",
            "epoch:  700, loss: 0.5435147881507874\n",
            "epoch:  800, loss: 0.5014495253562927\n",
            "epoch:  900, loss: 0.45674824714660645\n",
            "epoch: 1000, loss: 0.4104413390159607\n",
            "epoch: 1100, loss: 0.36405274271965027\n",
            "epoch: 1200, loss: 0.31918439269065857\n",
            "epoch: 1300, loss: 0.2772154211997986\n",
            "epoch: 1400, loss: 0.23913535475730896\n",
            "epoch: 1500, loss: 0.20550081133842468\n",
            "epoch: 1600, loss: 0.17647695541381836\n",
            "epoch: 1700, loss: 0.1519220918416977\n",
            "epoch: 1800, loss: 0.13148507475852966\n",
            "epoch: 1900, loss: 0.11469384282827377\n",
            "epoch: 2000, loss: 0.10102833807468414\n",
            "epoch: 2100, loss: 0.0899735614657402\n",
            "epoch: 2200, loss: 0.08105500042438507\n",
            "epoch: 2300, loss: 0.07385654002428055\n",
            "epoch: 2400, loss: 0.06802808493375778\n",
            "epoch: 2500, loss: 0.063283272087574\n",
            "epoch: 2600, loss: 0.05939358472824097\n",
            "epoch: 2700, loss: 0.056179143488407135\n",
            "epoch: 2800, loss: 0.05349985510110855\n",
            "epoch: 2900, loss: 0.05124708637595177\n",
            "epoch: 3000, loss: 0.04933668300509453\n",
            "training finished\n"
          ],
          "name": "stdout"
        }
      ]
    },
    {
      "cell_type": "code",
      "metadata": {
        "id": "_YnDB9icbWq5",
        "colab_type": "code",
        "colab": {
          "base_uri": "https://localhost:8080/",
          "height": 102
        },
        "outputId": "a9814f2c-68e5-420f-b7d3-99edd7b3f7d7"
      },
      "source": [
        "# 学習前に行った結果よりかは近しい値が出力されている。\n",
        "for idx, item in enumerate(zip(outputs, y_train)):\n",
        "  if idx == 5:\n",
        "    break\n",
        "  print(item[0].data, '<-->', item[1])"
      ],
      "execution_count": null,
      "outputs": [
        {
          "output_type": "stream",
          "text": [
            "tensor([1.7280]) <--> tensor([2.])\n",
            "tensor([1.2131]) <--> tensor([1.])\n",
            "tensor([0.0104]) <--> tensor([0.])\n",
            "tensor([1.0638]) <--> tensor([1.])\n",
            "tensor([1.3280]) <--> tensor([1.])\n"
          ],
          "name": "stdout"
        }
      ]
    },
    {
      "cell_type": "code",
      "metadata": {
        "id": "B8TkGT2cb6Q-",
        "colab_type": "code",
        "colab": {
          "base_uri": "https://localhost:8080/",
          "height": 102
        },
        "outputId": "fb382e00-d6cc-47cc-e492-2e6db4d13968"
      },
      "source": [
        "predict = (outputs + 0.5).int()\n",
        "for idx, item in enumerate(zip(predict, y_train)):\n",
        "  if idx == 5:\n",
        "    break\n",
        "  print('output:', item[0], ', label:', item[1])"
      ],
      "execution_count": null,
      "outputs": [
        {
          "output_type": "stream",
          "text": [
            "output: tensor([2], dtype=torch.int32) , label: tensor([2.])\n",
            "output: tensor([1], dtype=torch.int32) , label: tensor([1.])\n",
            "output: tensor([0], dtype=torch.int32) , label: tensor([0.])\n",
            "output: tensor([1], dtype=torch.int32) , label: tensor([1.])\n",
            "output: tensor([1], dtype=torch.int32) , label: tensor([1.])\n"
          ],
          "name": "stdout"
        }
      ]
    },
    {
      "cell_type": "code",
      "metadata": {
        "id": "UyQZ3l0Tcnka",
        "colab_type": "code",
        "colab": {
          "base_uri": "https://localhost:8080/",
          "height": 119
        },
        "outputId": "699afaa5-b725-4d50-b749-9191ed59b088"
      },
      "source": [
        "compare = predict == y_train\n",
        "print(compare[0:5])\n",
        "print(\"Accuracy:\", int(compare.sum())/112)"
      ],
      "execution_count": null,
      "outputs": [
        {
          "output_type": "stream",
          "text": [
            "tensor([[True],\n",
            "        [True],\n",
            "        [True],\n",
            "        [True],\n",
            "        [True]])\n",
            "Accuracy: 0.9910714285714286\n"
          ],
          "name": "stdout"
        }
      ]
    },
    {
      "cell_type": "code",
      "metadata": {
        "id": "AUEqt-YLdAqF",
        "colab_type": "code",
        "colab": {
          "base_uri": "https://localhost:8080/",
          "height": 680
        },
        "outputId": "269e38de-5cc7-4c0f-e951-4b1315deb106"
      },
      "source": [
        "outputs = net(X_test)\n",
        "\n",
        "predict = (outputs + 0.5).int()\n",
        "compare = predict == y_test\n",
        "\n",
        "print(f'correct: {compare.sum()} / {len(predict)}')\n",
        "for value, label in zip(predict, y_test):\n",
        "  print('predicted:', iris.target_names[value.item()], '<--->',\n",
        "        'label:', iris.target_names[int(label.item())])"
      ],
      "execution_count": null,
      "outputs": [
        {
          "output_type": "stream",
          "text": [
            "correct: 36 / 38\n",
            "predicted: virginica <---> label: virginica\n",
            "predicted: virginica <---> label: virginica\n",
            "predicted: virginica <---> label: virginica\n",
            "predicted: virginica <---> label: virginica\n",
            "predicted: virginica <---> label: virginica\n",
            "predicted: versicolor <---> label: versicolor\n",
            "predicted: versicolor <---> label: versicolor\n",
            "predicted: virginica <---> label: versicolor\n",
            "predicted: versicolor <---> label: versicolor\n",
            "predicted: setosa <---> label: setosa\n",
            "predicted: virginica <---> label: virginica\n",
            "predicted: setosa <---> label: setosa\n",
            "predicted: setosa <---> label: setosa\n",
            "predicted: versicolor <---> label: versicolor\n",
            "predicted: virginica <---> label: virginica\n",
            "predicted: versicolor <---> label: versicolor\n",
            "predicted: setosa <---> label: setosa\n",
            "predicted: setosa <---> label: setosa\n",
            "predicted: versicolor <---> label: versicolor\n",
            "predicted: versicolor <---> label: versicolor\n",
            "predicted: virginica <---> label: virginica\n",
            "predicted: versicolor <---> label: versicolor\n",
            "predicted: versicolor <---> label: versicolor\n",
            "predicted: versicolor <---> label: versicolor\n",
            "predicted: setosa <---> label: setosa\n",
            "predicted: setosa <---> label: setosa\n",
            "predicted: versicolor <---> label: versicolor\n",
            "predicted: versicolor <---> label: versicolor\n",
            "predicted: setosa <---> label: setosa\n",
            "predicted: setosa <---> label: setosa\n",
            "predicted: virginica <---> label: versicolor\n",
            "predicted: setosa <---> label: setosa\n",
            "predicted: virginica <---> label: virginica\n",
            "predicted: versicolor <---> label: versicolor\n",
            "predicted: virginica <---> label: virginica\n",
            "predicted: setosa <---> label: setosa\n",
            "predicted: versicolor <---> label: versicolor\n",
            "predicted: setosa <---> label: setosa\n"
          ],
          "name": "stdout"
        }
      ]
    },
    {
      "cell_type": "markdown",
      "metadata": {
        "id": "B7nTDmMmh-Pu",
        "colab_type": "text"
      },
      "source": [
        "###  重みとバイアス"
      ]
    },
    {
      "cell_type": "code",
      "metadata": {
        "id": "-vn7bKk3doWD",
        "colab_type": "code",
        "colab": {}
      },
      "source": [
        "from sklearn.datasets import load_iris\n",
        "from sklearn.model_selection import train_test_split\n",
        "import torch\n",
        "from torch import nn\n",
        "\n",
        "iris = load_iris()\n",
        "X_train, X_test, y_train, y_test = train_test_split(iris.data, iris.target)\n",
        "\n",
        "X_train = torch.from_numpy(X_train).float()\n",
        "y_train = torch.tensor([[float(x)] for x in y_train])\n",
        "X_test = torch.from_numpy(X_test).float()\n",
        "y_test = torch.tensor([[float(x)] for x in y_test])\n",
        "\n",
        "INPUT_FEATURES = 4\n",
        "HIDDEN = 5\n",
        "OUTPUT_FEATURES = 1\n",
        "\n",
        "class Net(nn.Module):\n",
        "    def __init__(self):\n",
        "        super().__init__()\n",
        "        self.fc1 = nn.Linear(INPUT_FEATURES, HIDDEN)\n",
        "        self.fc2 = nn.Linear(HIDDEN, OUTPUT_FEATURES)\n",
        "\n",
        "    def forward(self, x):\n",
        "        x = self.fc1(x)\n",
        "        x = torch.sigmoid(x)\n",
        "        x = self.fc2(x)\n",
        "        return x"
      ],
      "execution_count": null,
      "outputs": []
    },
    {
      "cell_type": "code",
      "metadata": {
        "id": "N2kq02LcTwKe",
        "colab_type": "code",
        "colab": {
          "base_uri": "https://localhost:8080/",
          "height": 51
        },
        "outputId": "0869ab77-aa60-4f0e-ff4d-8f4c4647f17d"
      },
      "source": [
        "x = X_train[0]\n",
        "print('x:', x)\n",
        "\n",
        "result = net.fc1.forward(x)\n",
        "print(result)"
      ],
      "execution_count": null,
      "outputs": [
        {
          "output_type": "stream",
          "text": [
            "x: tensor([6.5000, 3.0000, 5.5000, 1.8000])\n",
            "tensor([-1.8548,  2.4616, -0.6701, -1.6588, -1.2566], grad_fn=<AddBackward0>)\n"
          ],
          "name": "stdout"
        }
      ]
    },
    {
      "cell_type": "code",
      "metadata": {
        "id": "UaH3p-H-Pl6P",
        "colab_type": "code",
        "colab": {
          "base_uri": "https://localhost:8080/",
          "height": 187
        },
        "outputId": "82f21bcd-aba2-49f3-ff1a-6648fdd11556"
      },
      "source": [
        "# Netクラスのインスタンスのインスタン変数FC１が持つ重みとバイアスを表示する\n",
        "net = Net()\n",
        "\n",
        "print('weight')\n",
        "print(net.fc1.weight)\n",
        "print('bias')\n",
        "print(net.fc1.bias)"
      ],
      "execution_count": null,
      "outputs": [
        {
          "output_type": "stream",
          "text": [
            "weight\n",
            "Parameter containing:\n",
            "tensor([[-0.2988, -0.2243,  0.0226,  0.2022],\n",
            "        [ 0.3446,  0.2426,  0.0654, -0.3968],\n",
            "        [-0.2145,  0.3671, -0.1642,  0.2808],\n",
            "        [-0.2123, -0.1188, -0.0914,  0.3337],\n",
            "        [ 0.2798, -0.4199, -0.4846,  0.3388]], requires_grad=True)\n",
            "bias\n",
            "Parameter containing:\n",
            "tensor([ 0.2726, -0.1516,  0.0208, -0.0202,  0.2402], requires_grad=True)\n"
          ],
          "name": "stdout"
        }
      ]
    },
    {
      "cell_type": "code",
      "metadata": {
        "id": "DVwBZyAtPwz-",
        "colab_type": "code",
        "colab": {}
      },
      "source": [
        "# 入力層の重みを変数wに、入力層のバイアスを変数bに代入しておく　\n",
        "w = net.fc1.weight\n",
        "b = net.fc1.bias"
      ],
      "execution_count": null,
      "outputs": []
    },
    {
      "cell_type": "code",
      "metadata": {
        "id": "bNr1R1m-RDIZ",
        "colab_type": "code",
        "colab": {
          "base_uri": "https://localhost:8080/",
          "height": 34
        },
        "outputId": "a6eabab5-0fb6-4ab6-d651-39f76d4558b4"
      },
      "source": [
        "o0 = w[0][0] * x[0] + w[0][1] * x[1] + w[0][2] * x[2] + w[0][3] * x[3] + b[0]\n",
        "o1 = w[1][0] * x[0] + w[1][1] * x[1] + w[1][2] * x[2] + w[1][3] * x[3] + b[1]\n",
        "o2 = w[2][0] * x[0] + w[2][1] * x[1] + w[2][2] * x[2] + w[2][3] * x[3] + b[2]\n",
        "o3 = w[3][0] * x[0] + w[3][1] * x[1] + w[3][2] * x[2] + w[3][3] * x[3] + b[3]\n",
        "o4 = w[4][0] * x[0] + w[4][1] * x[1] + w[4][2] * x[2] + w[4][3] * x[3] + b[4]\n",
        "print(o0.data, o1.data, o2.data, o3.data, o4.data)"
      ],
      "execution_count": null,
      "outputs": [
        {
          "output_type": "stream",
          "text": [
            "tensor(-1.8548) tensor(2.4616) tensor(-0.6701) tensor(-1.6588) tensor(-1.2566)\n"
          ],
          "name": "stdout"
        }
      ]
    },
    {
      "cell_type": "code",
      "metadata": {
        "id": "_lVfyYhnTZhi",
        "colab_type": "code",
        "colab": {
          "base_uri": "https://localhost:8080/",
          "height": 34
        },
        "outputId": "f4f9956e-9166-4e12-a96d-96586fd493d1"
      },
      "source": [
        "o = w @ x + b\n",
        "print(o)"
      ],
      "execution_count": null,
      "outputs": [
        {
          "output_type": "stream",
          "text": [
            "tensor([-1.8548,  2.4616, -0.6701, -1.6588, -1.2566], grad_fn=<AddBackward0>)\n"
          ],
          "name": "stdout"
        }
      ]
    },
    {
      "cell_type": "code",
      "metadata": {
        "id": "ENFOEzJiURkr",
        "colab_type": "code",
        "colab": {
          "base_uri": "https://localhost:8080/",
          "height": 306
        },
        "outputId": "e4bc90f9-a51f-41e9-9611-ba287ec0ce2f"
      },
      "source": [
        "# 学習を一度だけ行い、入力層の重みとバイアスがどう変化したかを確認する\n",
        "criterion = nn.MSELoss()\n",
        "optimizer = torch.optim.SGD(net.parameters(), lr=0.03)\n",
        "\n",
        "print('before learning')\n",
        "print('weight')\n",
        "print(net.fc1.weight)\n",
        "\n",
        "print('learn once')\n",
        "outputs = net(X_train)\n",
        "loss = criterion(outputs, y_train)\n",
        "loss.backward()\n",
        "optimizer.step()\n",
        "\n",
        "print('after learning')\n",
        "print('weight')\n",
        "print(net.fc1.weight)"
      ],
      "execution_count": null,
      "outputs": [
        {
          "output_type": "stream",
          "text": [
            "before learning\n",
            "weight\n",
            "Parameter containing:\n",
            "tensor([[-0.2988, -0.2243,  0.0226,  0.2022],\n",
            "        [ 0.3446,  0.2426,  0.0654, -0.3968],\n",
            "        [-0.2145,  0.3671, -0.1642,  0.2808],\n",
            "        [-0.2123, -0.1188, -0.0914,  0.3337],\n",
            "        [ 0.2798, -0.4199, -0.4846,  0.3388]], requires_grad=True)\n",
            "learn once\n",
            "after learning\n",
            "weight\n",
            "Parameter containing:\n",
            "tensor([[-0.2835, -0.2171,  0.0345,  0.2064],\n",
            "        [ 0.3273,  0.2344,  0.0520, -0.4015],\n",
            "        [-0.1759,  0.3854, -0.1344,  0.2911],\n",
            "        [-0.1890, -0.1077, -0.0733,  0.3400],\n",
            "        [ 0.3230, -0.3993, -0.4516,  0.3502]], requires_grad=True)\n"
          ],
          "name": "stdout"
        }
      ]
    },
    {
      "cell_type": "markdown",
      "metadata": {
        "id": "FJEdZqa2VhiP",
        "colab_type": "text"
      },
      "source": [
        "# y = w * x で考えてみる"
      ]
    },
    {
      "cell_type": "code",
      "metadata": {
        "id": "0xV2stk0Ubps",
        "colab_type": "code",
        "colab": {
          "base_uri": "https://localhost:8080/",
          "height": 51
        },
        "outputId": "a3a38dad-d3ad-419d-fa9f-a6e0d6a2a161"
      },
      "source": [
        "import torch\n",
        "\n",
        "w = torch.tensor([[1.95]], requires_grad=True) # aaa\n",
        "t = torch.tensor([[2.0]]) # aaa\n",
        "x = torch.tensor([1.0])\n",
        "\n",
        "def f(x):\n",
        "  return w * x\n",
        "\n",
        "print('w:', w)\n",
        "print('t:', t)"
      ],
      "execution_count": null,
      "outputs": [
        {
          "output_type": "stream",
          "text": [
            "w: tensor([[1.9500]], requires_grad=True)\n",
            "t: tensor([[2.]])\n"
          ],
          "name": "stdout"
        }
      ]
    },
    {
      "cell_type": "markdown",
      "metadata": {
        "id": "GHkC4trFZs0S",
        "colab_type": "text"
      },
      "source": [
        "### 平均二乗誤差を考える\n",
        "- MSE：　Mean Squared Error\n",
        "- 同じインデックス位置にある２つの要素で減算を行った結果を二乗する\n",
        "- それらの要素の誤差として考え、ベクトルの全要素についてそれらを計算する\n",
        "- それらの総和を要素数で割った値を求める\n"
      ]
    },
    {
      "cell_type": "code",
      "metadata": {
        "id": "bImRPVlpV53A",
        "colab_type": "code",
        "colab": {
          "base_uri": "https://localhost:8080/",
          "height": 34
        },
        "outputId": "acfd2421-988e-4f64-de57-f9cbe78f7ea0"
      },
      "source": [
        "\n",
        "criterion = torch.nn.MSELoss()\n",
        "\n",
        "y = f(x)\n",
        "loss = criterion(y, t)\n",
        "print(loss.data)"
      ],
      "execution_count": null,
      "outputs": [
        {
          "output_type": "stream",
          "text": [
            "tensor(0.0025)\n"
          ],
          "name": "stdout"
        }
      ]
    },
    {
      "cell_type": "code",
      "metadata": {
        "id": "12Pr0VrzWTE6",
        "colab_type": "code",
        "colab": {
          "base_uri": "https://localhost:8080/",
          "height": 265
        },
        "outputId": "10fb8d5c-221e-42e8-e9eb-a0d252a59c28"
      },
      "source": [
        "# 損失を計算する関数\n",
        "# 勾配がマイナスなら重みを増加させて、プラスなら減少させていけばよい。\n",
        "import matplotlib.pyplot as plt\n",
        "\n",
        "def calc_loss(output, label):\n",
        "    return (output - label) ** 2\n",
        "\n",
        "# 1.9～2.1の範囲の重みwに対し、関数f(x)にx＝1を与えたときの計算結果\n",
        "output = torch.arange(1.9, 2.1, 0.005)\n",
        "\n",
        "LABEL = 2\n",
        "\n",
        "myloss = calc_loss(output, LABEL)\n",
        "plt.plot(output, myloss)\n",
        "plt.plot(1.95, calc_loss(1.95, LABEL), marker='o')\n",
        "plt.hlines(0, 1.9, 2.1, linestyle=':')\n",
        "plt.hlines(0.0025, 1.9, 1.95, linestyle=':')\n",
        "plt.vlines(1.95, 0, 0.0025, linestyle=':')\n",
        "plt.show()"
      ],
      "execution_count": null,
      "outputs": [
        {
          "output_type": "display_data",
          "data": {
            "image/png": "[encoded data removed]",
            "text/plain": [
              "<Figure size 432x288 with 1 Axes>"
            ]
          },
          "metadata": {
            "tags": [],
            "needs_background": "light"
          }
        }
      ]
    },
    {
      "cell_type": "code",
      "metadata": {
        "id": "7t6lL9vTbbyO",
        "colab_type": "code",
        "colab": {}
      },
      "source": [
        ""
      ],
      "execution_count": null,
      "outputs": []
    }
  ]
}