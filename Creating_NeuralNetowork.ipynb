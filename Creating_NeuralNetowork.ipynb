{
  "nbformat": 4,
  "nbformat_minor": 0,
  "metadata": {
    "colab": {
      "name": "Creating_NeuralNetowork.ipynb",
      "provenance": [],
      "authorship_tag": "ABX9TyNWsqIQUHSZUyTwzmvMWJfk",
      "include_colab_link": true
    },
    "kernelspec": {
      "name": "python3",
      "display_name": "Python 3"
    }
  },
  "cells": [
    {
      "cell_type": "markdown",
      "metadata": {
        "id": "view-in-github",
        "colab_type": "text"
      },
      "source": [
        "<a href=\"https://colab.research.google.com/github/0x31nose/Deep_Learning_Tutorial/blob/master/Creating_NeuralNetowork.ipynb\" target=\"_parent\"><img src=\"https://colab.research.google.com/assets/colab-badge.svg\" alt=\"Open In Colab\"/></a>"
      ]
    },
    {
      "cell_type": "markdown",
      "metadata": {
        "id": "itBWpIUZKqT5",
        "colab_type": "text"
      },
      "source": [
        "## ニューラルネットワークの作成\n",
        "1. データセットの準備と整形\n",
        "2. ニューラルネットワークの定義\n",
        "3. 学習と制度の検証"
      ]
    },
    {
      "cell_type": "markdown",
      "metadata": {
        "id": "fxNCH-0PLQBf",
        "colab_type": "text"
      },
      "source": [
        "### あやめのデータセットの読み込み"
      ]
    },
    {
      "cell_type": "code",
      "metadata": {
        "id": "EZtkhkdHLTtD",
        "colab_type": "code",
        "colab": {}
      },
      "source": [
        "from sklearn.datasets import load_iris\n",
        "iris = load_iris()"
      ],
      "execution_count": 2,
      "outputs": []
    },
    {
      "cell_type": "code",
      "metadata": {
        "id": "ZUSELcROL5fD",
        "colab_type": "code",
        "colab": {
          "base_uri": "https://localhost:8080/",
          "height": 102
        },
        "outputId": "26427c62-af0c-4136-e6ea-3d2b98599d2a"
      },
      "source": [
        "for idx, item in enumerate(zip(iris.data, iris.target)):\n",
        "  if idx == 5:\n",
        "    break\n",
        "  print('data', item[0], 'target:', item[1])"
      ],
      "execution_count": 3,
      "outputs": [
        {
          "output_type": "stream",
          "text": [
            "data [5.1 3.5 1.4 0.2] target: 0\n",
            "data [4.9 3.  1.4 0.2] target: 0\n",
            "data [4.7 3.2 1.3 0.2] target: 0\n",
            "data [4.6 3.1 1.5 0.2] target: 0\n",
            "data [5.  3.6 1.4 0.2] target: 0\n"
          ],
          "name": "stdout"
        }
      ]
    },
    {
      "cell_type": "code",
      "metadata": {
        "id": "LHim64VSMF3I",
        "colab_type": "code",
        "colab": {
          "base_uri": "https://localhost:8080/",
          "height": 119
        },
        "outputId": "b32afc44-7d0c-446a-c9b2-6e6d8739fdfa"
      },
      "source": [
        "from sklearn.model_selection import train_test_split\n",
        "print(\"length of iris.data:\", len(iris.data)) # iris.dataのデータ数\n",
        "print(\"length of iris.target:\", len(iris.target)) # iris.targetのデータ数\n",
        "\n",
        "# iris.dataとiris.targetに含まれるデータをシャッフルして分割\n",
        "X_train, X_test, y_train, y_test = train_test_split(iris.data, iris.target)\n",
        "print(\"length of X_train:\", len(X_train))\n",
        "print(\"length of y_train:\", len(y_train))\n",
        "print(\"length of X_test:\", len(X_test))\n",
        "print(\"length of y_test:\", len(y_test))"
      ],
      "execution_count": 4,
      "outputs": [
        {
          "output_type": "stream",
          "text": [
            "length of iris.data: 150\n",
            "length of iris.target: 150\n",
            "length of X_train: 112\n",
            "length of y_train: 112\n",
            "length of X_test: 38\n",
            "length of y_test: 38\n"
          ],
          "name": "stdout"
        }
      ]
    },
    {
      "cell_type": "code",
      "metadata": {
        "id": "px4CRFJYMv6e",
        "colab_type": "code",
        "colab": {
          "base_uri": "https://localhost:8080/",
          "height": 102
        },
        "outputId": "8e12db44-3a22-413d-eb1a-09f25c475ec1"
      },
      "source": [
        "for idx, item in enumerate(zip(X_train, y_train)):\n",
        "  if idx == 5:\n",
        "    break\n",
        "  print('data', item[0], 'target:', item[1])"
      ],
      "execution_count": 5,
      "outputs": [
        {
          "output_type": "stream",
          "text": [
            "data [6.9 3.1 5.4 2.1] target: 2\n",
            "data [6.3 2.3 4.4 1.3] target: 1\n",
            "data [6.3 3.3 6.  2.5] target: 2\n",
            "data [5.7 2.9 4.2 1.3] target: 1\n",
            "data [5.1 3.8 1.5 0.3] target: 0\n"
          ],
          "name": "stdout"
        }
      ]
    },
    {
      "cell_type": "code",
      "metadata": {
        "id": "rG086b4oNK5Q",
        "colab_type": "code",
        "colab": {}
      },
      "source": [
        "import torch\n",
        "\n",
        "X_train = torch.from_numpy(X_train).float()\n",
        "y_train = torch.tensor([[float(x)] for x in y_train])\n",
        "X_test = torch.from_numpy(X_test).float()\n",
        "y_test = torch.tensor([[float(x)] for x in y_test])"
      ],
      "execution_count": 6,
      "outputs": []
    },
    {
      "cell_type": "markdown",
      "metadata": {
        "id": "kW3NLeZQTD7e",
        "colab_type": "text"
      },
      "source": [
        "## ニューラルネットワークの作成\n",
        "- ある層のノードが次の層の全てのノードと接続されるようなニューラルネットワークを作成する。\n",
        "- PyTorchではLinearクラス（torch.nn.Linearクラス）を使うことで簡潔に記述できる。\n",
        "- 以下では、入力データ→入力層→活性化関数→隠れ層→（出力層→）出力という流れを書いてみる"
      ]
    },
    {
      "cell_type": "markdown",
      "metadata": {
        "id": "MHFTLCcQV2Uh",
        "colab_type": "text"
      },
      "source": [
        ""
      ]
    },
    {
      "cell_type": "code",
      "metadata": {
        "id": "TVD4tYHbNu-d",
        "colab_type": "code",
        "colab": {}
      },
      "source": [
        "# PyTorchが提供するtorch.nnモジュールをインポートする\n",
        "from torch import nn\n",
        "\n",
        "# 入力層、隠れ層、出力の数を変数に代入する\n",
        "INPUT_FEATURES = 4\n",
        "HIDDEN = 5\n",
        "OUTPUT_FEATURES = 1\n",
        "\n",
        "# nn.Moduleクラス（torch.nn.Moduleクラス）を基底クラスとする\n",
        "# そうすることで、Pytorchが提供するニューラルネットワークのすべての機能を継承する\n",
        "# その後に、__init__とforwardの２つのメソッドを定義する\n",
        "class Net(nn.Module):\n",
        "  #　基底クラスの__init__メソッドを呼び出して、初期化を行っている\n",
        "  def __init__(self):\n",
        "    super().__init__()\n",
        "    # 入力層を表すインスタンス（入力層→隠れ層）\n",
        "    self.fc1 = nn.Linear(INPUT_FEATURES, HIDDEN)\n",
        "    # 隠れ層を表すインスタンス(隠れ層→出力層)\n",
        "    self.fc2 = nn.Linear(HIDDEN, OUTPUT_FEATURES)\n",
        "\n",
        "  # ニューラルネットがどのように計算を連ねていくかを定める\n",
        "  # 入力xを受け取り、self.fc1で処理し、\n",
        "  # その結果をsigmoid関数（活性化関数）に通して、\n",
        "  # self.fc2メソッドで処理して、その結果を戻り値としている\n",
        "  def forward(self, x):\n",
        "    x = self.fc1(x)\n",
        "    x = torch.sigmoid(x)\n",
        "    x = self.fc2(x)\n",
        "    return x"
      ],
      "execution_count": 7,
      "outputs": []
    },
    {
      "cell_type": "code",
      "metadata": {
        "id": "JUpyT-nOPN16",
        "colab_type": "code",
        "colab": {
          "base_uri": "https://localhost:8080/",
          "height": 119
        },
        "outputId": "321d61f1-8ed6-4a8b-e60b-ed42693477c6"
      },
      "source": [
        "# とりあえず訓練してないけど使ってみるテスト\n",
        "net = Net() #\n",
        "\n",
        "outputs = net(X_train[0:3]) # 訓練データの先頭から３個の要素を入力\n",
        "print(outputs)\n",
        "for idx in range(3):\n",
        "  print('output', outputs[idx], ', label:', y_train[idx])"
      ],
      "execution_count": 8,
      "outputs": [
        {
          "output_type": "stream",
          "text": [
            "tensor([[0.1224],\n",
            "        [0.1605],\n",
            "        [0.0764]], grad_fn=<AddmmBackward>)\n",
            "output tensor([0.1224], grad_fn=<SelectBackward>) , label: tensor([2.])\n",
            "output tensor([0.1605], grad_fn=<SelectBackward>) , label: tensor([1.])\n",
            "output tensor([0.0764], grad_fn=<SelectBackward>) , label: tensor([2.])\n"
          ],
          "name": "stdout"
        }
      ]
    },
    {
      "cell_type": "markdown",
      "metadata": {
        "id": "VwSLYIjEaK3x",
        "colab_type": "text"
      },
      "source": [
        "### 学習\n",
        "#### 学習の概要\n",
        "- ニューラルネットワークにデータを入力\n",
        "- 得られる計算結果（推測結果）と正解ラベルを比較\n",
        "- ニューラルネットワークが持つ重みやバイアスを更新する\n",
        "- 計算結果と正解ラベルとの誤差を比べる\n",
        "- 最適化と呼ばれる処置を行う\n",
        "\n",
        "#### 学習の手順\n",
        "1. ニューラルネットワークにX_trainに格納したデータを入力する\n",
        "2. 損失関数を用いて計算結果と正解ラベルとの誤差を計算する\n",
        "3. 誤差逆伝播や最適化処理によって重みやバイアスを更新\n",
        "4. １〜３を繰り返す"
      ]
    },
    {
      "cell_type": "code",
      "metadata": {
        "id": "-yx7fQ1TWNa3",
        "colab_type": "code",
        "colab": {
          "base_uri": "https://localhost:8080/",
          "height": 544
        },
        "outputId": "c6db5621-44f8-4299-dcda-195f1ea8404a"
      },
      "source": [
        "net = Net()\n",
        "\n",
        "criterion = nn.MSELoss()\n",
        "optimizer = torch.optim.SGD(net.parameters(), lr=0.003)\n",
        "\n",
        "EPOCHS = 3000\n",
        "for epoch in range(EPOCHS):\n",
        "  optimizer.zero_grad()\n",
        "  outputs = net(X_train)\n",
        "  loss = criterion(outputs, y_train)\n",
        "  loss.backward()\n",
        "  optimizer.step()\n",
        "\n",
        "  if epoch % 100 == 99:\n",
        "    print(f'epoch: {epoch+1:4}, loss: {loss.data}')\n",
        "\n",
        "print('training finished')"
      ],
      "execution_count": 9,
      "outputs": [
        {
          "output_type": "stream",
          "text": [
            "epoch:  100, loss: 0.5581387877464294\n",
            "epoch:  200, loss: 0.5110146999359131\n",
            "epoch:  300, loss: 0.4632623493671417\n",
            "epoch:  400, loss: 0.41357818245887756\n",
            "epoch:  500, loss: 0.36208245158195496\n",
            "epoch:  600, loss: 0.3094262182712555\n",
            "epoch:  700, loss: 0.25751811265945435\n",
            "epoch:  800, loss: 0.2097214311361313\n",
            "epoch:  900, loss: 0.16966845095157623\n",
            "epoch: 1000, loss: 0.138902947306633\n",
            "epoch: 1100, loss: 0.1164659634232521\n",
            "epoch: 1200, loss: 0.10041330009698868\n",
            "epoch: 1300, loss: 0.08892619609832764\n",
            "epoch: 1400, loss: 0.08061496168375015\n",
            "epoch: 1500, loss: 0.07449013739824295\n",
            "epoch: 1600, loss: 0.06986870616674423\n",
            "epoch: 1700, loss: 0.06628742069005966\n",
            "epoch: 1800, loss: 0.06343546509742737\n",
            "epoch: 1900, loss: 0.06110532954335213\n",
            "epoch: 2000, loss: 0.05915806069970131\n",
            "epoch: 2100, loss: 0.05749942734837532\n",
            "epoch: 2200, loss: 0.05606427788734436\n",
            "epoch: 2300, loss: 0.054806482046842575\n",
            "epoch: 2400, loss: 0.053692419081926346\n",
            "epoch: 2500, loss: 0.05269705504179001\n",
            "epoch: 2600, loss: 0.051801107823848724\n",
            "epoch: 2700, loss: 0.05098960921168327\n",
            "epoch: 2800, loss: 0.05025056004524231\n",
            "epoch: 2900, loss: 0.04957432672381401\n",
            "epoch: 3000, loss: 0.04895300418138504\n",
            "training finished\n"
          ],
          "name": "stdout"
        }
      ]
    },
    {
      "cell_type": "code",
      "metadata": {
        "id": "_YnDB9icbWq5",
        "colab_type": "code",
        "colab": {
          "base_uri": "https://localhost:8080/",
          "height": 102
        },
        "outputId": "fcb91220-b88d-4ad6-a976-3efb7ce4e32f"
      },
      "source": [
        "# 学習前に行った結果よりかは近しい値が出力されている。\n",
        "for idx, item in enumerate(zip(outputs, y_train)):\n",
        "  if idx == 5:\n",
        "    break\n",
        "  print(item[0].data, '<-->', item[1])"
      ],
      "execution_count": 10,
      "outputs": [
        {
          "output_type": "stream",
          "text": [
            "tensor([1.6383]) <--> tensor([2.])\n",
            "tensor([1.2728]) <--> tensor([1.])\n",
            "tensor([2.0380]) <--> tensor([2.])\n",
            "tensor([1.2186]) <--> tensor([1.])\n",
            "tensor([-0.0398]) <--> tensor([0.])\n"
          ],
          "name": "stdout"
        }
      ]
    },
    {
      "cell_type": "code",
      "metadata": {
        "id": "B8TkGT2cb6Q-",
        "colab_type": "code",
        "colab": {
          "base_uri": "https://localhost:8080/",
          "height": 102
        },
        "outputId": "4a5a9bdf-7e77-4146-a02b-6950188624a5"
      },
      "source": [
        "predict = (outputs + 0.5).int()\n",
        "for idx, item in enumerate(zip(predict, y_train)):\n",
        "  if idx == 5:\n",
        "    break\n",
        "  print('output:', item[0], ', label:', item[1])"
      ],
      "execution_count": 11,
      "outputs": [
        {
          "output_type": "stream",
          "text": [
            "output: tensor([2], dtype=torch.int32) , label: tensor([2.])\n",
            "output: tensor([1], dtype=torch.int32) , label: tensor([1.])\n",
            "output: tensor([2], dtype=torch.int32) , label: tensor([2.])\n",
            "output: tensor([1], dtype=torch.int32) , label: tensor([1.])\n",
            "output: tensor([0], dtype=torch.int32) , label: tensor([0.])\n"
          ],
          "name": "stdout"
        }
      ]
    },
    {
      "cell_type": "code",
      "metadata": {
        "id": "UyQZ3l0Tcnka",
        "colab_type": "code",
        "colab": {
          "base_uri": "https://localhost:8080/",
          "height": 119
        },
        "outputId": "c9f246f2-9c39-4f99-d0c3-7a46ce8779db"
      },
      "source": [
        "compare = predict == y_train\n",
        "print(compare[0:5])\n",
        "print(\"Accuracy:\", int(compare.sum())/112)"
      ],
      "execution_count": 12,
      "outputs": [
        {
          "output_type": "stream",
          "text": [
            "tensor([[True],\n",
            "        [True],\n",
            "        [True],\n",
            "        [True],\n",
            "        [True]])\n",
            "Accuracy: 0.9821428571428571\n"
          ],
          "name": "stdout"
        }
      ]
    },
    {
      "cell_type": "code",
      "metadata": {
        "id": "AUEqt-YLdAqF",
        "colab_type": "code",
        "colab": {
          "base_uri": "https://localhost:8080/",
          "height": 680
        },
        "outputId": "b12dbedc-ec46-418e-e864-b0d37043bcb2"
      },
      "source": [
        "outputs = net(X_test)\n",
        "\n",
        "predict = (outputs + 0.5).int()\n",
        "compare = predict == y_test\n",
        "\n",
        "print(f'correct: {compare.sum()} / {len(predict)}')\n",
        "for value, label in zip(predict, y_test):\n",
        "  print('predicted:', iris.target_names[value.item()], '<--->',\n",
        "        'label:', iris.target_names[int(label.item())])"
      ],
      "execution_count": 13,
      "outputs": [
        {
          "output_type": "stream",
          "text": [
            "correct: 37 / 38\n",
            "predicted: versicolor <---> label: versicolor\n",
            "predicted: setosa <---> label: setosa\n",
            "predicted: virginica <---> label: virginica\n",
            "predicted: setosa <---> label: setosa\n",
            "predicted: virginica <---> label: virginica\n",
            "predicted: virginica <---> label: versicolor\n",
            "predicted: setosa <---> label: setosa\n",
            "predicted: versicolor <---> label: versicolor\n",
            "predicted: virginica <---> label: virginica\n",
            "predicted: versicolor <---> label: versicolor\n",
            "predicted: virginica <---> label: virginica\n",
            "predicted: virginica <---> label: virginica\n",
            "predicted: setosa <---> label: setosa\n",
            "predicted: virginica <---> label: virginica\n",
            "predicted: virginica <---> label: virginica\n",
            "predicted: virginica <---> label: virginica\n",
            "predicted: versicolor <---> label: versicolor\n",
            "predicted: setosa <---> label: setosa\n",
            "predicted: setosa <---> label: setosa\n",
            "predicted: setosa <---> label: setosa\n",
            "predicted: setosa <---> label: setosa\n",
            "predicted: versicolor <---> label: versicolor\n",
            "predicted: versicolor <---> label: versicolor\n",
            "predicted: versicolor <---> label: versicolor\n",
            "predicted: virginica <---> label: virginica\n",
            "predicted: versicolor <---> label: versicolor\n",
            "predicted: versicolor <---> label: versicolor\n",
            "predicted: setosa <---> label: setosa\n",
            "predicted: virginica <---> label: virginica\n",
            "predicted: versicolor <---> label: versicolor\n",
            "predicted: setosa <---> label: setosa\n",
            "predicted: setosa <---> label: setosa\n",
            "predicted: virginica <---> label: virginica\n",
            "predicted: virginica <---> label: virginica\n",
            "predicted: virginica <---> label: virginica\n",
            "predicted: setosa <---> label: setosa\n",
            "predicted: setosa <---> label: setosa\n",
            "predicted: virginica <---> label: virginica\n"
          ],
          "name": "stdout"
        }
      ]
    },
    {
      "cell_type": "markdown",
      "metadata": {
        "id": "B7nTDmMmh-Pu",
        "colab_type": "text"
      },
      "source": [
        "###  重みとバイアス"
      ]
    },
    {
      "cell_type": "code",
      "metadata": {
        "id": "-vn7bKk3doWD",
        "colab_type": "code",
        "colab": {}
      },
      "source": [
        "from sklearn.datasets import load_iris\n",
        "from sklearn.model_selection import train_test_split\n",
        "import torch\n",
        "from torch import nn\n",
        "\n",
        "iris = load_iris()\n",
        "X_train, X_test, y_train, y_test = train_test_split(iris.data, iris.target)\n",
        "\n",
        "X_train = torch.from_numpy(X_train).float()\n",
        "y_train = torch.tensor([[float(x)] for x in y_train])\n",
        "X_test = torch.from_numpy(X_test).float()\n",
        "y_test = torch.tensor([[float(x)] for x in y_test])\n",
        "\n",
        "INPUT_FEATURES = 4\n",
        "HIDDEN = 5\n",
        "OUTPUT_FEATURES = 1\n",
        "\n",
        "class Net(nn.Module):\n",
        "    def __init__(self):\n",
        "        super().__init__()\n",
        "        self.fc1 = nn.Linear(INPUT_FEATURES, HIDDEN)\n",
        "        self.fc2 = nn.Linear(HIDDEN, OUTPUT_FEATURES)\n",
        "\n",
        "    def forward(self, x):\n",
        "        x = self.fc1(x)\n",
        "        x = torch.sigmoid(x)\n",
        "        x = self.fc2(x)\n",
        "        return x"
      ],
      "execution_count": 14,
      "outputs": []
    },
    {
      "cell_type": "code",
      "metadata": {
        "id": "N2kq02LcTwKe",
        "colab_type": "code",
        "colab": {
          "base_uri": "https://localhost:8080/",
          "height": 51
        },
        "outputId": "6b260de4-bc3f-4e02-9910-55daf73f2ce9"
      },
      "source": [
        "x = X_train[0]\n",
        "print('x:', x)\n",
        "\n",
        "result = net.fc1.forward(x)\n",
        "print(result)"
      ],
      "execution_count": 15,
      "outputs": [
        {
          "output_type": "stream",
          "text": [
            "x: tensor([6.1000, 3.0000, 4.9000, 1.8000])\n",
            "tensor([ 0.5931, -0.6618, -0.7113,  0.9908,  2.3427], grad_fn=<AddBackward0>)\n"
          ],
          "name": "stdout"
        }
      ]
    },
    {
      "cell_type": "code",
      "metadata": {
        "id": "UaH3p-H-Pl6P",
        "colab_type": "code",
        "colab": {
          "base_uri": "https://localhost:8080/",
          "height": 521
        },
        "outputId": "3292b961-8642-4a50-f143-dd8a576fa9eb"
      },
      "source": [
        "# Netクラスのインスタンスのインスタン変数FC１が持つ重みとバイアスを表示する\n",
        "net = Net()\n",
        "\n",
        "print('weight')\n",
        "print(net.fc1.weight)\n",
        "print('bias')\n",
        "print(net.fc1.bias)\n",
        "\n",
        "print(\"test\")\n",
        "print(net.fc1.weight)"
      ],
      "execution_count": 34,
      "outputs": [
        {
          "output_type": "stream",
          "text": [
            "weight\n",
            "Parameter containing:\n",
            "tensor([[-0.0981, -0.4471,  0.2553,  0.2363],\n",
            "        [ 0.2650,  0.3900,  0.4507, -0.3410],\n",
            "        [ 0.4524, -0.1798, -0.4187,  0.1710],\n",
            "        [-0.4384,  0.2881, -0.3333, -0.2789],\n",
            "        [-0.3786, -0.2126, -0.2127, -0.4238]], requires_grad=True)\n",
            "bias\n",
            "Parameter containing:\n",
            "tensor([ 0.2601, -0.4526,  0.4828,  0.2571,  0.3562], requires_grad=True)\n",
            "test\n",
            "Parameter containing:\n",
            "tensor([[-0.0981, -0.4471,  0.2553,  0.2363],\n",
            "        [ 0.2650,  0.3900,  0.4507, -0.3410],\n",
            "        [ 0.4524, -0.1798, -0.4187,  0.1710],\n",
            "        [-0.4384,  0.2881, -0.3333, -0.2789],\n",
            "        [-0.3786, -0.2126, -0.2127, -0.4238]], requires_grad=True)\n"
          ],
          "name": "stdout"
        },
        {
          "output_type": "error",
          "ename": "RuntimeError",
          "evalue": "ignored",
          "traceback": [
            "\u001b[0;31m---------------------------------------------------------------------------\u001b[0m",
            "\u001b[0;31mRuntimeError\u001b[0m                              Traceback (most recent call last)",
            "\u001b[0;32m<ipython-input-34-9d02ea7a52d7>\u001b[0m in \u001b[0;36m<module>\u001b[0;34m()\u001b[0m\n\u001b[1;32m     15\u001b[0m \u001b[0;34m\u001b[0m\u001b[0m\n\u001b[1;32m     16\u001b[0m \u001b[0;31m# 多次元配列→1次元配列\u001b[0m\u001b[0;34m\u001b[0m\u001b[0;34m\u001b[0m\u001b[0;34m\u001b[0m\u001b[0m\n\u001b[0;32m---> 17\u001b[0;31m \u001b[0marray\u001b[0m\u001b[0;34m.\u001b[0m\u001b[0mreshape\u001b[0m\u001b[0;34m(\u001b[0m\u001b[0;36m1\u001b[0m\u001b[0;34m)\u001b[0m\u001b[0;34m\u001b[0m\u001b[0;34m\u001b[0m\u001b[0m\n\u001b[0m\u001b[1;32m     18\u001b[0m \u001b[0;34m\u001b[0m\u001b[0m\n\u001b[1;32m     19\u001b[0m \u001b[0;31m# 1次元配列→多次元配列\u001b[0m\u001b[0;34m\u001b[0m\u001b[0;34m\u001b[0m\u001b[0;34m\u001b[0m\u001b[0m\n",
            "\u001b[0;31mRuntimeError\u001b[0m: shape '[1]' is invalid for input of size 20"
          ]
        }
      ]
    },
    {
      "cell_type": "markdown",
      "metadata": {
        "id": "FJEdZqa2VhiP",
        "colab_type": "text"
      },
      "source": [
        "# y = w * x で考えてみる"
      ]
    },
    {
      "cell_type": "code",
      "metadata": {
        "id": "DVwBZyAtPwz-",
        "colab_type": "code",
        "colab": {}
      },
      "source": [
        "# 入力層の重みを変数wに、入力層のバイアスを変数bに代入しておく　\n",
        "w = net.fc1.weight\n",
        "b = net.fc1.bias"
      ],
      "execution_count": 16,
      "outputs": []
    },
    {
      "cell_type": "code",
      "metadata": {
        "id": "bNr1R1m-RDIZ",
        "colab_type": "code",
        "colab": {
          "base_uri": "https://localhost:8080/",
          "height": 34
        },
        "outputId": "8d48595b-248a-4deb-a935-b6c2acf2fec0"
      },
      "source": [
        "o0 = w[0][0] * x[0] + w[0][1] * x[1] + w[0][2] * x[2] + w[0][3] * x[3] + b[0]\n",
        "o1 = w[1][0] * x[0] + w[1][1] * x[1] + w[1][2] * x[2] + w[1][3] * x[3] + b[1]\n",
        "o2 = w[2][0] * x[0] + w[2][1] * x[1] + w[2][2] * x[2] + w[2][3] * x[3] + b[2]\n",
        "o3 = w[3][0] * x[0] + w[3][1] * x[1] + w[3][2] * x[2] + w[3][3] * x[3] + b[3]\n",
        "o4 = w[4][0] * x[0] + w[4][1] * x[1] + w[4][2] * x[2] + w[4][3] * x[3] + b[4]\n",
        "print(o0.data, o1.data, o2.data, o3.data, o4.data)"
      ],
      "execution_count": 17,
      "outputs": [
        {
          "output_type": "stream",
          "text": [
            "tensor(0.5931) tensor(-0.6618) tensor(-0.7113) tensor(0.9908) tensor(2.3427)\n"
          ],
          "name": "stdout"
        }
      ]
    },
    {
      "cell_type": "code",
      "metadata": {
        "id": "_lVfyYhnTZhi",
        "colab_type": "code",
        "colab": {
          "base_uri": "https://localhost:8080/",
          "height": 34
        },
        "outputId": "8646df52-5298-4135-cd65-31d6a6a6bab0"
      },
      "source": [
        "o = w @ x + b\n",
        "print(o)"
      ],
      "execution_count": 18,
      "outputs": [
        {
          "output_type": "stream",
          "text": [
            "tensor([ 0.5931, -0.6618, -0.7113,  0.9908,  2.3427], grad_fn=<AddBackward0>)\n"
          ],
          "name": "stdout"
        }
      ]
    },
    {
      "cell_type": "code",
      "metadata": {
        "id": "ENFOEzJiURkr",
        "colab_type": "code",
        "colab": {
          "base_uri": "https://localhost:8080/",
          "height": 306
        },
        "outputId": "77de8299-fb2a-4eb9-fd96-879836bf0139"
      },
      "source": [
        "# 学習を一度だけ行い、入力層の重みとバイアスがどう変化したかを確認する\n",
        "criterion = nn.MSELoss()\n",
        "optimizer = torch.optim.SGD(net.parameters(), lr=0.03)\n",
        "\n",
        "print('before learning')\n",
        "print('weight')\n",
        "print(net.fc1.weight)\n",
        "\n",
        "print('learn once')\n",
        "outputs = net(X_train)\n",
        "loss = criterion(outputs, y_train)\n",
        "loss.backward()\n",
        "optimizer.step()\n",
        "\n",
        "print('after learning')\n",
        "print('weight')\n",
        "print(net.fc1.weight)"
      ],
      "execution_count": 19,
      "outputs": [
        {
          "output_type": "stream",
          "text": [
            "before learning\n",
            "weight\n",
            "Parameter containing:\n",
            "tensor([[-0.5243, -0.4489,  0.8814,  0.3233],\n",
            "        [ 0.3368, -0.1935, -0.3962,  0.0037],\n",
            "        [ 0.3273,  0.3274, -0.6309, -0.5168],\n",
            "        [-0.2088, -0.0252,  0.3737,  0.4314],\n",
            "        [ 0.3310, -0.1945,  0.0576,  0.1626]], requires_grad=True)\n",
            "learn once\n",
            "after learning\n",
            "weight\n",
            "Parameter containing:\n",
            "tensor([[-0.5272, -0.4503,  0.8804,  0.3237],\n",
            "        [ 0.3368, -0.1935, -0.3963,  0.0036],\n",
            "        [ 0.3286,  0.3280, -0.6304, -0.5169],\n",
            "        [-0.2102, -0.0257,  0.3730,  0.4316],\n",
            "        [ 0.3309, -0.1945,  0.0576,  0.1626]], requires_grad=True)\n"
          ],
          "name": "stdout"
        }
      ]
    },
    {
      "cell_type": "code",
      "metadata": {
        "id": "0xV2stk0Ubps",
        "colab_type": "code",
        "colab": {
          "base_uri": "https://localhost:8080/",
          "height": 51
        },
        "outputId": "efbb82cf-2110-46ba-bd09-9b37f2dbcb08"
      },
      "source": [
        "import torch\n",
        "\n",
        "w = torch.tensor([[1.95]], requires_grad=True) # aaa\n",
        "t = torch.tensor([[2.0]]) # aaa\n",
        "x = torch.tensor([1.0])\n",
        "\n",
        "def f(x):\n",
        "  return w * x\n",
        "\n",
        "print('w:', w)\n",
        "print('t:', t)"
      ],
      "execution_count": 20,
      "outputs": [
        {
          "output_type": "stream",
          "text": [
            "w: tensor([[1.9500]], requires_grad=True)\n",
            "t: tensor([[2.]])\n"
          ],
          "name": "stdout"
        }
      ]
    },
    {
      "cell_type": "markdown",
      "metadata": {
        "id": "GHkC4trFZs0S",
        "colab_type": "text"
      },
      "source": [
        "### 平均二乗誤差を考える\n",
        "- MSE：　Mean Squared Error\n",
        "- 同じインデックス位置にある２つの要素で減算を行った結果を二乗する\n",
        "- それらの要素の誤差として考え、ベクトルの全要素についてそれらを計算する\n",
        "- それらの総和を要素数で割った値を求める\n"
      ]
    },
    {
      "cell_type": "code",
      "metadata": {
        "id": "bImRPVlpV53A",
        "colab_type": "code",
        "colab": {
          "base_uri": "https://localhost:8080/",
          "height": 34
        },
        "outputId": "f8b3d2bd-9cfc-4d6e-8afb-7754dd7fd6aa"
      },
      "source": [
        "\n",
        "criterion = torch.nn.MSELoss()\n",
        "\n",
        "y = f(x)\n",
        "loss = criterion(y, t)\n",
        "print(loss.data)"
      ],
      "execution_count": 21,
      "outputs": [
        {
          "output_type": "stream",
          "text": [
            "tensor(0.0025)\n"
          ],
          "name": "stdout"
        }
      ]
    },
    {
      "cell_type": "code",
      "metadata": {
        "id": "12Pr0VrzWTE6",
        "colab_type": "code",
        "colab": {
          "base_uri": "https://localhost:8080/",
          "height": 265
        },
        "outputId": "19dad477-f120-460c-8177-bcb9af222f1b"
      },
      "source": [
        "# 損失を計算する関数\n",
        "# 勾配がマイナスなら重みを増加させて、プラスなら減少させていけばよい。\n",
        "import matplotlib.pyplot as plt\n",
        "\n",
        "def calc_loss(output, label):\n",
        "    return (output - label) ** 2\n",
        "\n",
        "# 1.9～2.1の範囲の重みwに対し、関数f(x)にx＝1を与えたときの計算結果\n",
        "output = torch.arange(1.9, 2.1, 0.005)\n",
        "\n",
        "LABEL = 2\n",
        "\n",
        "myloss = calc_loss(output, LABEL)\n",
        "plt.plot(output, myloss)\n",
        "plt.plot(1.95, calc_loss(1.95, LABEL), marker='o')\n",
        "plt.hlines(0, 1.9, 2.1, linestyle=':')\n",
        "plt.hlines(0.0025, 1.9, 1.95, linestyle=':')\n",
        "plt.vlines(1.95, 0, 0.0025, linestyle=':')\n",
        "plt.show()"
      ],
      "execution_count": 22,
      "outputs": [
        {
          "output_type": "display_data",
          "data": {
            "image/png": "[encoded data removed]",
            "text/plain": [
              "<Figure size 432x288 with 1 Axes>"
            ]
          },
          "metadata": {
            "tags": [],
            "needs_background": "light"
          }
        }
      ]
    },
    {
      "cell_type": "markdown",
      "metadata": {
        "id": "GBB9b4gEF3Az",
        "colab_type": "text"
      },
      "source": [
        "# 重みの変換"
      ]
    },
    {
      "cell_type": "code",
      "metadata": {
        "id": "lYIO36zZ8aCe",
        "colab_type": "code",
        "colab": {
          "base_uri": "https://localhost:8080/",
          "height": 204
        },
        "outputId": "a4b43f50-9ca5-467f-be9d-5a9f1e10ec4c"
      },
      "source": [
        "import numpy as np\n",
        "\n",
        "array = net.fc1.weight \n",
        "a, b = net.fc1.weight.shape\n",
        "\n",
        "# 2次元配列→1次元配列\n",
        "print('2次元配列→1次元配列')\n",
        "c = array.detach().numpy().ravel()\n",
        "print(c)\n",
        "\n",
        "# 1次元配列→2次元配列\n",
        "print('1次元配列→2次元配列')\n",
        "d = c.reshape(a, b)\n",
        "print(d)"
      ],
      "execution_count": 71,
      "outputs": [
        {
          "output_type": "stream",
          "text": [
            "2次元配列→1次元配列\n",
            "[-0.09811467 -0.44712853  0.2552538   0.23629457  0.2650035   0.39002073\n",
            "  0.45068324 -0.3409896   0.45240152 -0.17978102 -0.41865218  0.17095816\n",
            " -0.43841827  0.2880792  -0.33332747 -0.27892    -0.3786285  -0.2126087\n",
            " -0.21270788 -0.42376012]\n",
            "1次元配列→2次元配列\n",
            "[[-0.09811467 -0.44712853  0.2552538   0.23629457]\n",
            " [ 0.2650035   0.39002073  0.45068324 -0.3409896 ]\n",
            " [ 0.45240152 -0.17978102 -0.41865218  0.17095816]\n",
            " [-0.43841827  0.2880792  -0.33332747 -0.27892   ]\n",
            " [-0.3786285  -0.2126087  -0.21270788 -0.42376012]]\n"
          ],
          "name": "stdout"
        }
      ]
    },
    {
      "cell_type": "code",
      "metadata": {
        "id": "l72-EUTvGch_",
        "colab_type": "code",
        "colab": {}
      },
      "source": [
        ""
      ],
      "execution_count": null,
      "outputs": []
    }
  ]
}